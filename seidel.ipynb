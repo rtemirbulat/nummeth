{
 "metadata": {
  "language_info": {
   "codemirror_mode": {
    "name": "ipython",
    "version": 3
   },
   "file_extension": ".py",
   "mimetype": "text/x-python",
   "name": "python",
   "nbconvert_exporter": "python",
   "pygments_lexer": "ipython3",
   "version": "3.7.6-final"
  },
  "orig_nbformat": 2,
  "kernelspec": {
   "name": "python3",
   "display_name": "Python 3"
  }
 },
 "nbformat": 4,
 "nbformat_minor": 2,
 "cells": [
  {
   "cell_type": "code",
   "execution_count": 1,
   "metadata": {},
   "outputs": [],
   "source": [
    "import numpy as np\n",
    "\n",
    "ITERATION_LIMIT = 10\n"
   ]
  },
  {
   "cell_type": "code",
   "execution_count": 2,
   "metadata": {},
   "outputs": [
    {
     "output_type": "stream",
     "name": "stdout",
     "text": [
      "System of equations:\n[ 10*x1 +  -1*x2 +   2*x3 +   0*x4] = [  6]\n[ -1*x1 +  11*x2 +  -1*x3 +   3*x4] = [ 25]\n[  2*x1 +  -1*x2 +  10*x3 +  -1*x4] = [-11]\n[  0*x1 +   3*x2 +  -1*x3 +   8*x4] = [ 15]\nIteration 1: [0. 0. 0. 0.]\nIteration 2: [ 0.6         2.32727273 -0.98727273  0.87886364]\nIteration 3: [ 1.03018182  2.03693802 -1.0144562   0.98434122]\nIteration 4: [ 1.00658504  2.00355502 -1.00252738  0.99835095]\nIteration 5: [ 1.00086098  2.00029825 -1.00030728  0.99984975]\nIteration 6: [ 1.00009128  2.00002134 -1.00003115  0.9999881 ]\nIteration 7: [ 1.00000836  2.00000117 -1.00000275  0.99999922]\nIteration 8: [ 1.00000067  2.00000002 -1.00000021  0.99999996]\nIteration 9: [ 1.00000004  1.99999999 -1.00000001  1.        ]\nSolution: [ 1.  2. -1.  1.]\nError: [ 2.06480930e-08 -1.25551054e-08  3.61417563e-11  0.00000000e+00]\n"
     ]
    }
   ],
   "source": [
    "A = np.array([[10., -1., 2., 0.],\n",
    "              [-1., 11., -1., 3.],\n",
    "              [2., -1., 10., -1.],\n",
    "              [0., 3., -1., 8.]])\n",
    "\n",
    "b = np.array([6.0, 25.0, -11.0, 15.0])\n",
    "\n",
    "print(\"System of equations:\")\n",
    "\n",
    "for i in range(A.shape[0]):\n",
    "    row = [\"{0:3g}*x{1}\".format(A[i, j], j + 1) for j in range(A.shape[1])]\n",
    "    print(\"[{0}] = [{1:3g}]\".format(\" + \".join(row), b[i]))\n",
    "\n",
    "x = np.zeros_like(b)\n",
    "for it_count in range(1, ITERATION_LIMIT):\n",
    "    x_new = np.zeros_like(x) # initialize first iter as 0-0-0-0\n",
    "    print(\"Iteration {0}: {1}\".format(it_count, x))\n",
    "    for i in range(A.shape[0]):\n",
    "        s1 = np.dot(A[i, :i], x_new[:i])\n",
    "        s2 = np.dot(A[i, i + 1 :], x[i + 1 :])\n",
    "        x_new[i] = (b[i] - s1 - s2) / A[i, i]\n",
    "    if np.allclose(x, x_new, rtol=1e-8):\n",
    "        break\n",
    "    x = x_new\n",
    "\n",
    "print(\"Solution: {0}\".format(x))\n",
    "error = np.dot(A, x) - b\n",
    "print(\"Error: {0}\".format(error))"
   ]
  },
  {
   "cell_type": "code",
   "execution_count": null,
   "metadata": {},
   "outputs": [],
   "source": []
  }
 ]
}