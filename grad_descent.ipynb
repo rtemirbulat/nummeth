{
 "metadata": {
  "language_info": {
   "codemirror_mode": {
    "name": "ipython",
    "version": 3
   },
   "file_extension": ".py",
   "mimetype": "text/x-python",
   "name": "python",
   "nbconvert_exporter": "python",
   "pygments_lexer": "ipython3",
   "version": "3.9.0-final"
  },
  "orig_nbformat": 2,
  "kernelspec": {
   "name": "python3",
   "display_name": "Python 3.9.0 64-bit",
   "metadata": {
    "interpreter": {
     "hash": "63fd5069d213b44bf678585dea6b12cceca9941eaf7f819626cde1f2670de90d"
    }
   }
  }
 },
 "nbformat": 4,
 "nbformat_minor": 2,
 "cells": [
  {
   "cell_type": "code",
   "execution_count": 6,
   "metadata": {},
   "outputs": [],
   "source": [
    "import numpy as np"
   ]
  },
  {
   "source": [
    "A = np.array([[20.9,1.2,0.7],[1.2,21.2,1.5],[0.9,2.5,19.8]])\n",
    "b = [21.7,27.46,28.76]\n",
    "e = 1e-4"
   ],
   "cell_type": "code",
   "metadata": {},
   "execution_count": 7,
   "outputs": []
  },
  {
   "cell_type": "code",
   "execution_count": 8,
   "metadata": {},
   "outputs": [
    {
     "output_type": "execute_result",
     "data": {
      "text/plain": [
       "(4, array([0.92970698, 1.15317659, 1.26465956]), 0.0001)"
      ]
     },
     "metadata": {},
     "execution_count": 8
    }
   ],
   "source": [
    "def gradient_method(A,b):\n",
    "    x  = np.zeros_like(b) #initial approx  \n",
    "    d = 1 #max deviation\n",
    "    it = 0\n",
    "    while d>e:\n",
    "        r = np.dot(A,x) - b #residue \n",
    "        Ar = np.dot(A,r) \n",
    "        tau = np.dot(r,r)/np.dot(Ar,r) #sum0 / sum1 \n",
    "        xk = x - np.dot(tau,r)  \n",
    "        d = np.linalg.norm(x - xk) #max deviation\n",
    "        x = xk # new solution of SLAE\n",
    "        it+=1 \n",
    "    return it,x,e\n",
    "k,x1,e = gradient_method(A,b)\n",
    "gradient_method(A,b)"
   ]
  },
  {
   "cell_type": "code",
   "execution_count": 10,
   "metadata": {},
   "outputs": [
    {
     "output_type": "execute_result",
     "data": {
      "text/plain": [
       "array([0.92970927, 1.15317712, 1.26466257])"
      ]
     },
     "metadata": {},
     "execution_count": 10
    }
   ],
   "source": [
    "np.linalg.solve(A,b)"
   ]
  }
 ]
}