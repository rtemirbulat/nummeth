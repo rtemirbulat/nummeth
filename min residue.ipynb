{
 "metadata": {
  "language_info": {
   "codemirror_mode": {
    "name": "ipython",
    "version": 3
   },
   "file_extension": ".py",
   "mimetype": "text/x-python",
   "name": "python",
   "nbconvert_exporter": "python",
   "pygments_lexer": "ipython3",
   "version": "3.7.6-final"
  },
  "orig_nbformat": 2,
  "kernelspec": {
   "name": "python3",
   "display_name": "Python 3.7.6 64-bit (conda)",
   "metadata": {
    "interpreter": {
     "hash": "b3ba2566441a7c06988d0923437866b63cedc61552a5af99d1f4fb67d367b25f"
    }
   }
  }
 },
 "nbformat": 4,
 "nbformat_minor": 2,
 "cells": [
  {
   "cell_type": "code",
   "execution_count": 71,
   "metadata": {},
   "outputs": [],
   "source": [
    "import numpy as np\n",
    "e = 1.0E-4  \n",
    "counter = 0"
   ]
  },
  {
   "cell_type": "code",
   "execution_count": 72,
   "metadata": {},
   "outputs": [],
   "source": [
    "# Matrix should be positively defined (sylvester criterion)\n",
    "\n",
    "d_file = 'data.txt'\n",
    "with open(d_file,'r') as file:\n",
    "    matrix_height = int(file.readline( ))\n",
    "    A = np.matrix([list(map(float, file.readline().split()))\n",
    "                       for i in range(matrix_height)]) \n",
    "    b = np.matrix(list(map(float, file.readline().split()))).transpose() \n",
    "    x = np.matrix(list(map(float, file.readline().split()))).transpose()"
   ]
  },
  {
   "cell_type": "code",
   "execution_count": 73,
   "metadata": {},
   "outputs": [],
   "source": [
    "def min_residue(A, b, x):\n",
    "    r = A * x - b  # vector of residue\n",
    "    t = np.dot((A * r).transpose(), r) / (np.linalg.norm(A * r)**2) # tau\n",
    "    x = x - float(t) * r  # new solution of SLAE\n",
    "    return (A, b, x)"
   ]
  },
  {
   "cell_type": "code",
   "execution_count": 74,
   "metadata": {},
   "outputs": [
    {
     "output_type": "stream",
     "name": "stdout",
     "text": [
      "min residue method\n\nMatrix A:\n [[20.9  1.2  0.7]\n [ 1.2 21.2  1.5]\n [ 0.9  2.5 19.8]]\nVector B:  [[21.7  27.46 28.76]]\nVector of approximations [[0. 0. 0.]]\n\n"
     ]
    }
   ],
   "source": [
    "print('min residue method\\n')\n",
    "print('Matrix A:\\n', A)\n",
    "print('Vector B: ', b.transpose())\n",
    "print('Vector of approximations', x.transpose(), end='\\n\\n')\n"
   ]
  },
  {
   "cell_type": "code",
   "execution_count": 75,
   "metadata": {},
   "outputs": [
    {
     "output_type": "stream",
     "name": "stdout",
     "text": [
      "Step\t\tSolution vector\n0\t\t[[0. 0. 0.]]\n1\t\t[[0.93149704 1.17875155 1.23455552]]\n2\t\t[[0.92896963 1.15189719 1.2630998 ]]\n3\t\t[[0.9297508  1.15320861 1.26460306]]\n4\t\t[[0.92970599 1.15317604 1.26465814]]\n\nVector with precision  0.0001 :  [[0.92970925 1.15317754 1.26466232]]\nIterations:  5\n"
     ]
    }
   ],
   "source": [
    "print('Step', 'Solution vector', sep='\\t\\t')\n",
    "while np.linalg.norm(A*x - b) > e:  \n",
    "    print(counter, x.transpose(), sep='\\t\\t')\n",
    "    A, b, x = min_residue(A, b, x)\n",
    "    counter += 1\n",
    "\n",
    "print('\\nVector with precision ',\n",
    "                                e, ': ', x.transpose())\n",
    "print('Iterations: ', counter)\n"
   ]
  },
  {
   "cell_type": "code",
   "execution_count": 76,
   "metadata": {},
   "outputs": [
    {
     "output_type": "execute_result",
     "data": {
      "text/plain": [
       "matrix([[0.92970927],\n",
       "        [1.15317712],\n",
       "        [1.26466257]])"
      ]
     },
     "metadata": {},
     "execution_count": 76
    }
   ],
   "source": [
    "np.linalg.solve(A,b)"
   ]
  },
  {
   "cell_type": "code",
   "execution_count": null,
   "metadata": {},
   "outputs": [],
   "source": []
  }
 ]
}