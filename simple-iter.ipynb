{
 "metadata": {
  "language_info": {
   "codemirror_mode": {
    "name": "ipython",
    "version": 3
   },
   "file_extension": ".py",
   "mimetype": "text/x-python",
   "name": "python",
   "nbconvert_exporter": "python",
   "pygments_lexer": "ipython3",
   "version": "3.7.6-final"
  },
  "orig_nbformat": 2,
  "kernelspec": {
   "name": "python3",
   "display_name": "Python 3",
   "language": "python"
  }
 },
 "nbformat": 4,
 "nbformat_minor": 2,
 "cells": [
  {
   "cell_type": "code",
   "execution_count": 9,
   "metadata": {},
   "outputs": [],
   "source": [
    "import numpy as np"
   ]
  },
  {
   "cell_type": "code",
   "execution_count": 10,
   "metadata": {},
   "outputs": [
    {
     "output_type": "stream",
     "name": "stdout",
     "text": [
      "8   [0.92970981 1.15317783 1.26466345]\n"
     ]
    }
   ],
   "source": [
    "def simple_iter(A, B):\n",
    "    x = np.zeros(len(A)) #vector column \n",
    "    D = np.diag(A)  #diagonal matrix\n",
    "    R = A - np.diagflat(D) # diff between A and diag matrix\n",
    "    e = 0.0001\n",
    "    iters = 0\n",
    "\n",
    "    a = np.sum(R,axis=1) #adds val-s by row \n",
    "    a = a/D  #divides by diag matrix\n",
    "    while e<1:\n",
    "        e = np.linalg.norm(a) #finds vector norm \n",
    "        if e<1:\n",
    "            x2 = (B - np.dot(R,x))/D\n",
    "            x = x2\n",
    "        a = x*a\n",
    "        iters+=1\n",
    "    print(iters,\" \",x)\n",
    "    return x\n",
    "A = np.array([[20.9,1.2,0.7],[1.2,21.2,1.5],[0.9,2.5,19.8]])\n",
    "B = [21.7,27.46,28.76]\n",
    "x = simple_iter(A,B)\n"
   ]
  },
  {
   "cell_type": "code",
   "execution_count": null,
   "metadata": {},
   "outputs": [],
   "source": []
  },
  {
   "cell_type": "code",
   "execution_count": null,
   "metadata": {},
   "outputs": [],
   "source": []
  }
 ]
}